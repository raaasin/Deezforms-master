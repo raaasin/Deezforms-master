{
 "cells": [
  {
   "cell_type": "code",
   "execution_count": 1,
   "metadata": {},
   "outputs": [],
   "source": [
    "from selenium import webdriver\n",
    "from selenium.webdriver.chrome.options import Options\n",
    "from selenium.webdriver.common.by import By\n",
    "from selenium.webdriver.chrome.service import Service\n",
    "import deezforms_login as dl\n",
    "from creds import email,password\n",
    "from selenium.webdriver.support.ui import WebDriverWait\n",
    "from selenium.webdriver.support import expected_conditions as EC\n"
   ]
  },
  {
   "cell_type": "code",
   "execution_count": 2,
   "metadata": {},
   "outputs": [],
   "source": [
    "driver = webdriver.Chrome()\n",
    "linkedin_email = email\n",
    "linkedin_password = password\n",
    "dl.login(driver, email, password)"
   ]
  },
  {
   "cell_type": "code",
   "execution_count": 3,
   "metadata": {},
   "outputs": [],
   "source": [
    "contact_info = 'overlay/contact-info/'\n",
    "driver.get(f'https://www.linkedin.com/in/sriharshamalla/{contact_info}')\n",
    "# driver.get(\"https://www.linkedin.com/in/sriharshamalla/\")\n"
   ]
  },
  {
   "cell_type": "code",
   "execution_count": 4,
   "metadata": {},
   "outputs": [
    {
     "name": "stdout",
     "output_type": "stream",
     "text": [
      "{'full_name': 'Sri Harsha Malla', 'headline': \"CSE ( AI&DS) @2024 || Tech & Design Lead @ OWASP-VIIT Student Chapter || Igniter @ Unstop Vigniter's club - VIIT || Editor of Millennials Masti The Podcast\"}\n"
     ]
    }
   ],
   "source": [
    "full_name = 'text-heading-xlarge'\n",
    "headline = 'text-body-medium'\n",
    "\n",
    "profile_dict = {'full_name':'','headline':''}\n",
    "\n",
    "profile_dict['full_name']=driver.find_element(By.CSS_SELECTOR,f\"h1.{full_name}\").get_attribute('innerText')\n",
    "profile_dict['headline']=driver.find_element(By.CSS_SELECTOR, \"div.text-body-medium\").get_attribute(\"innerText\")\n",
    "\n",
    "print(profile_dict)\n"
   ]
  },
  {
   "cell_type": "code",
   "execution_count": 5,
   "metadata": {},
   "outputs": [
    {
     "name": "stdout",
     "output_type": "stream",
     "text": [
      "Website\n",
      "github.com/HarshaMalla (Other)\n",
      "['github.com/HarshaMalla']\n"
     ]
    }
   ],
   "source": [
    "contact_info = 'overlay/contact-info/'\n",
    "# driver.get(f'https://www.linkedin.com/in/sasi-vatsal-606195215/{contact_info}')\n",
    "\n",
    "websites = 'pv-contact-info__contact-type.ci-websites'\n",
    "web_urls = 'pv-contact-info__ci-container.link.t-14'\n",
    "headers = 'pv-contact-info__header.t-16.t-black.t-bold'\n",
    "links = 'pv-contact-info__contact-link'\n",
    "\n",
    "urls = list()\n",
    "ur = driver.find_element(By.CSS_SELECTOR,f'section.{websites}')\n",
    "print(ur.text)\n",
    "for element in ur.find_elements(By.CSS_SELECTOR,f'a.{links}'):\n",
    "    urls.append(element.text)\n",
    "\n",
    "print(urls)"
   ]
  },
  {
   "cell_type": "code",
   "execution_count": 6,
   "metadata": {},
   "outputs": [
    {
     "name": "stdout",
     "output_type": "stream",
     "text": [
      "Hargulla\n"
     ]
    }
   ],
   "source": [
    "twitter = 'pv-contact-info__contact-type.ci-twitter'\n",
    "for element in driver.find_element(By.CSS_SELECTOR,f'section.{twitter}').find_elements(By.CSS_SELECTOR,f'a.{links}'):\n",
    "    print(element.text)"
   ]
  },
  {
   "cell_type": "code",
   "execution_count": 7,
   "metadata": {},
   "outputs": [
    {
     "data": {
      "text/plain": [
       "{'about': \"I'm Sri Harsha, an aspiring Data Scientist with a strong academic background in Data Science and Artificial Intelligence. Currently, I'm pursuing my B.Tech in Data Science, which has helped me gain a deeper understanding of various concepts and techniques used in the field.\\n\\nThrough my B.Tech coursework, I have learned about various machine learning algorithms, such as Linear Regression, Logistic Regression, Decision Trees, Random Forests, and more. I have also gained a solid foundation in Deep Learning concepts, including Convolutional Neural Networks (CNNs), Recurrent Neural Networks (RNNs), and Generative Adversarial Networks (GANs).\\n\\nAdditionally, I have learned about Natural Language Processing (NLP) and Computer Vision, which are widely used in the industry today. I have applied these concepts in real-world projects, such as Sentiment Analysis, Image Classification, and Object Detection.\\n\\nMoreover, I have a sound understanding of Data Preprocessing, Feature Engineering, Exploratory Data Analysis, and Data Visualization. I have experience in using popular data science libraries, such as Pandas, NumPy, and Scikit-Learn, to analyze and manipulate datasets.\\n\\nFurthermore, I have experience in Front End development using HTML, CSS, JavaScript, and frameworks like React, Spline, and Vue. I'm also skilled in UI/UX designing using tools like Figma, Adobe XD, and Adobe Illustrator, which enables me to present my analysis and insights in a visually appealing way.\"}"
      ]
     },
     "execution_count": 7,
     "metadata": {},
     "output_type": "execute_result"
    }
   ],
   "source": [
    "import time\n",
    "profile_about = dict()\n",
    "driver.get(f'https://www.linkedin.com/in/sriharshamalla/{contact_info}')\n",
    "time.sleep(1)\n",
    "profile_about['about']=driver.find_element(By.CSS_SELECTOR,'div.display-flex.ph5.pv3').find_element(By.CSS_SELECTOR,'div.display-flex').find_element(By.CSS_SELECTOR,'div.pv-shared-text-with-see-more').find_element(By.CSS_SELECTOR,'div.inline-show-more-text').text\n",
    "profile_about"
   ]
  },
  {
   "cell_type": "markdown",
   "metadata": {},
   "source": [
    "## Github Scrapper"
   ]
  },
  {
   "cell_type": "code",
   "execution_count": 8,
   "metadata": {},
   "outputs": [],
   "source": [
    "url = 'https://github.com/lokeshwarlakhi'\n",
    "driver = webdriver.Chrome()\n",
    "driver.get(url)"
   ]
  },
  {
   "cell_type": "code",
   "execution_count": 9,
   "metadata": {},
   "outputs": [],
   "source": [
    "profile = {}"
   ]
  },
  {
   "cell_type": "code",
   "execution_count": 10,
   "metadata": {},
   "outputs": [
    {
     "data": {
      "text/plain": [
       "{'about': \"✨✨Greetings✨✨, I'm 𝙇𝙤𝙠𝙚𝙨𝙝 👽\\n🚀 I love data science and have experience working with technologies like Python, pandas, sklearn, tensorflow, SQL and Tableau. I enjoy solving complex problems using data and building machine learning models to make predictions and recommendations.\\n🚀 I write blogs on various topics related to data science, machine learning, and artificial intelligence. You can find my articles on my personal blog @ hashnode, Medium.\\n🚀 I record podcasts on data science topics and interview industry experts to learn about their experiences and insights. You can listen to my podcasts on platforms like Spotify and Google Podcasts.\\n🚀 I'm an active member of the data science community and regularly participate in events like hackathons, meetups, and conferences. I love sharing my knowledge and learning from others, and I'm always looking for new opportunities to collaborate and contribute to the community.\\n🚀 I'm new to open source contributions and looking to activly contribute to open source projects related to data science and machine learning. I believe in the power of open source software to accelerate innovation and democratize access to technology. For now , i'm hunting those good first issues and always looking for new projects to contribute to and ways to improve the community.\\n\\n\\n✉ Catch me on\\n                  This is everything i know :\\nEnvironments I work with:\"}"
      ]
     },
     "execution_count": 10,
     "metadata": {},
     "output_type": "execute_result"
    }
   ],
   "source": [
    "profile_readme = 'markdown-body.entry-content.container-lg.f5'\n",
    "profile_about = driver.find_element(By.CSS_SELECTOR,f'article.{profile_readme}')\n",
    "profile['about'] = profile_about.text\n",
    "profile"
   ]
  },
  {
   "cell_type": "code",
   "execution_count": 11,
   "metadata": {},
   "outputs": [
    {
     "data": {
      "text/plain": [
       "['https://github.com/lokeshwarlakhi#-greetings-im-%F0%9D%99%87%F0%9D%99%A4%F0%9D%99%A0%F0%9D%99%9A%F0%9D%99%A8%F0%9D%99%9D--',\n",
       " 'https://github.com/lokeshwarlakhi/lokeshwarlakhi/blob/main/media/oh_hi_there.png',\n",
       " 'https://lokeshwarlakhi.hashnode.dev/',\n",
       " 'https://medium.com/@lokeshwarlakhi',\n",
       " 'https://github.com/lokeshwarlakhi#-catch-me-on-',\n",
       " 'https://www.linkedin.com/in/lokeshwarlakhi/',\n",
       " 'https://twitter.com/lokstwt',\n",
       " 'https://t.me/davidxllz',\n",
       " 'https://www.instagram.com/lokeshlakhii/',\n",
       " 'mailto:%20lokeshwarlakhi@gmail.com',\n",
       " 'https://open.spotify.com/user/ql0zx5m1c6kyjla2omti7h2uf',\n",
       " 'https://www.reddit.com/u/lokeshwarlakhi?utm_medium=android_app&utm_source=share',\n",
       " 'https://camo.githubusercontent.com/52fa71be29dd8ac9ff0cfa023ce0f3d71f097f92f698eb5e2d8d809323cfc105/68747470733a2f2f76697369746f722d62616467652e6c616f62692e6963752f62616467653f706167655f69643d6c6f6b6573687761726c616b68692e6c6f6b6573687761726c616b6869',\n",
       " 'https://github.com/lokeshwarlakhi#-this-is-everything-i-know--',\n",
       " 'https://www.python.org/',\n",
       " 'https://devdocs.io/c/',\n",
       " 'https://devdocs.io/cpp/',\n",
       " 'https://www.djangoproject.com/',\n",
       " 'https://pandas.pydata.org/',\n",
       " 'https://www.tensorflow.org/',\n",
       " 'https://keras.io/',\n",
       " 'https://scikit-learn.org/stable/',\n",
       " 'https://dev.java/learn/',\n",
       " 'https://github.com/lokeshwarlakhi#-environments-i-work-with-',\n",
       " 'https://www.archlinux.org/',\n",
       " 'https://github.com/',\n",
       " 'https://code.visualstudio.com/',\n",
       " 'https://github.com/lokeshwarlakhi/lokeshwarlakhi/blob/main/media/gday_mate.png',\n",
       " 'https://camo.githubusercontent.com/86d7c9e491c76edd3bfe210a5159ded4b1db7102bc31842e4529754f432c5e42/68747470733a2f2f63617073756c652d72656e6465722e76657263656c2e6170702f6170693f747970653d776176696e6726636f6c6f723d6772616469656e74266865696768743d38302673656374696f6e3d666f6f7465722677696474683d313030']"
      ]
     },
     "execution_count": 11,
     "metadata": {},
     "output_type": "execute_result"
    }
   ],
   "source": [
    "[i.get_attribute(\"href\") for i in profile_about.find_elements(By.TAG_NAME,'a')]\n",
    "# github,hashnode,medium,twitter,telegram,instagram, linkedin,spotify,"
   ]
  },
  {
   "cell_type": "code",
   "execution_count": 19,
   "metadata": {},
   "outputs": [
    {
     "data": {
      "text/plain": [
       "{'about': \"✨✨Greetings✨✨, I'm 𝙇𝙤𝙠𝙚𝙨𝙝 👽\\n🚀 I love data science and have experience working with technologies like Python, pandas, sklearn, tensorflow, SQL and Tableau. I enjoy solving complex problems using data and building machine learning models to make predictions and recommendations.\\n🚀 I write blogs on various topics related to data science, machine learning, and artificial intelligence. You can find my articles on my personal blog @ hashnode, Medium.\\n🚀 I record podcasts on data science topics and interview industry experts to learn about their experiences and insights. You can listen to my podcasts on platforms like Spotify and Google Podcasts.\\n🚀 I'm an active member of the data science community and regularly participate in events like hackathons, meetups, and conferences. I love sharing my knowledge and learning from others, and I'm always looking for new opportunities to collaborate and contribute to the community.\\n🚀 I'm new to open source contributions and looking to activly contribute to open source projects related to data science and machine learning. I believe in the power of open source software to accelerate innovation and democratize access to technology. For now , i'm hunting those good first issues and always looking for new projects to contribute to and ways to improve the community.\\n\\n\\n✉ Catch me on\\n                  This is everything i know :\\nEnvironments I work with:\",\n",
       " 'top_repos': ['Hand_written_digit_recognizer Public',\n",
       "  'Enhance-EDA Public',\n",
       "  'Expreme_Music_Assistant Public',\n",
       "  'Audio-Video-Merger Public',\n",
       "  'lokeshwarlakhi Public'],\n",
       " 'total_repos': 14,\n",
       " 'bio': '💻 Data Science | 🚀 Open source lover | 🎙️ host of The Millennials Masti Podcast | 👨🏾\\u200d💻 Blogging |☕ Coffee and Code\\n'}"
      ]
     },
     "execution_count": 19,
     "metadata": {},
     "output_type": "execute_result"
    }
   ],
   "source": [
    "# p-note user-profile-bio mb-3 js-user-profile-bio f4\n",
    "profile['bio'] = driver.find_element(By.CLASS_NAME,'p-note.user-profile-bio.mb-3.js-user-profile-bio.f4').get_attribute('data-bio-text')\n",
    "profile"
   ]
  },
  {
   "cell_type": "code",
   "execution_count": 20,
   "metadata": {},
   "outputs": [
    {
     "data": {
      "text/plain": [
       "{'about': \"✨✨Greetings✨✨, I'm 𝙇𝙤𝙠𝙚𝙨𝙝 👽\\n🚀 I love data science and have experience working with technologies like Python, pandas, sklearn, tensorflow, SQL and Tableau. I enjoy solving complex problems using data and building machine learning models to make predictions and recommendations.\\n🚀 I write blogs on various topics related to data science, machine learning, and artificial intelligence. You can find my articles on my personal blog @ hashnode, Medium.\\n🚀 I record podcasts on data science topics and interview industry experts to learn about their experiences and insights. You can listen to my podcasts on platforms like Spotify and Google Podcasts.\\n🚀 I'm an active member of the data science community and regularly participate in events like hackathons, meetups, and conferences. I love sharing my knowledge and learning from others, and I'm always looking for new opportunities to collaborate and contribute to the community.\\n🚀 I'm new to open source contributions and looking to activly contribute to open source projects related to data science and machine learning. I believe in the power of open source software to accelerate innovation and democratize access to technology. For now , i'm hunting those good first issues and always looking for new projects to contribute to and ways to improve the community.\\n\\n\\n✉ Catch me on\\n                  This is everything i know :\\nEnvironments I work with:\",\n",
       " 'top_repos': ['Hand_written_digit_recognizer',\n",
       "  'Enhance-EDA',\n",
       "  'Expreme_Music_Assistant',\n",
       "  'Audio-Video-Merger',\n",
       "  'lokeshwarlakhi'],\n",
       " 'total_repos': 14,\n",
       " 'bio': '💻 Data Science | 🚀 Open source lover | 🎙️ host of The Millennials Masti Podcast | 👨🏾\\u200d💻 Blogging |☕ Coffee and Code\\n'}"
      ]
     },
     "execution_count": 20,
     "metadata": {},
     "output_type": "execute_result"
    }
   ],
   "source": [
    "# top 5 repos\n",
    "url = 'https://github.com/lokeshwarlakhi?tab=repositories&q=&type=&language=&sort=stargazers'\n",
    "driver.get(url)\n",
    "\n",
    "repos_list_id = 'user-repositories-list'\n",
    "repo_id= 'col-12.d-flex.flex-justify-between.width-full.py-4.border-bottom.color-border-muted.public.source'\n",
    "repos_list = driver.find_element(By.ID,repos_list_id)\n",
    "repos_title = repos_list.find_elements(By.CSS_SELECTOR,f'li.{repo_id}')\n",
    "\n",
    "i = 0\n",
    "profile['top_repos']= list()\n",
    "for repo in repos_title:\n",
    "    profile['top_repos'].append(repo.find_element(By.CSS_SELECTOR,f'h3.wb-break-all').text.split(' ')[0])\n",
    "    i+=1\n",
    "    if i == 5:\n",
    "        break\n",
    "\n",
    "profile\n",
    "\n"
   ]
  },
  {
   "cell_type": "code",
   "execution_count": 13,
   "metadata": {},
   "outputs": [
    {
     "data": {
      "text/plain": [
       "{'about': \"✨✨Greetings✨✨, I'm 𝙇𝙤𝙠𝙚𝙨𝙝 👽\\n🚀 I love data science and have experience working with technologies like Python, pandas, sklearn, tensorflow, SQL and Tableau. I enjoy solving complex problems using data and building machine learning models to make predictions and recommendations.\\n🚀 I write blogs on various topics related to data science, machine learning, and artificial intelligence. You can find my articles on my personal blog @ hashnode, Medium.\\n🚀 I record podcasts on data science topics and interview industry experts to learn about their experiences and insights. You can listen to my podcasts on platforms like Spotify and Google Podcasts.\\n🚀 I'm an active member of the data science community and regularly participate in events like hackathons, meetups, and conferences. I love sharing my knowledge and learning from others, and I'm always looking for new opportunities to collaborate and contribute to the community.\\n🚀 I'm new to open source contributions and looking to activly contribute to open source projects related to data science and machine learning. I believe in the power of open source software to accelerate innovation and democratize access to technology. For now , i'm hunting those good first issues and always looking for new projects to contribute to and ways to improve the community.\\n\\n\\n✉ Catch me on\\n                  This is everything i know :\\nEnvironments I work with:\",\n",
       " 'top_repos': ['Hand_written_digit_recognizer Public',\n",
       "  'Enhance-EDA Public',\n",
       "  'Expreme_Music_Assistant Public',\n",
       "  'Audio-Video-Merger Public',\n",
       "  'lokeshwarlakhi Public'],\n",
       " 'total_repos': 14}"
      ]
     },
     "execution_count": 13,
     "metadata": {},
     "output_type": "execute_result"
    }
   ],
   "source": [
    "# no. of repos\n",
    "anchor_elements = driver.find_elements(By.CLASS_NAME, 'UnderlineNav-item')\n",
    "second_anchor = anchor_elements[1]\n",
    "repos = second_anchor.find_element(By.CLASS_NAME,'Counter').text\n",
    "profile['total_repos'] = int(repos)\n",
    "profile"
   ]
  },
  {
   "cell_type": "code",
   "execution_count": 23,
   "metadata": {},
   "outputs": [
    {
     "name": "stdout",
     "output_type": "stream",
     "text": [
      "https://github.com/lokeshwarlakhi?tab=repositories&q=&type=&language=&sort=stargazers/Hand_written_digit_recognizer\n"
     ]
    }
   ],
   "source": [
    "#top 3 languages\n",
    "i = profile['top_repos'][0]\n",
    "# for i in profile['top_repos']:\n",
    "print(f'{url}/{i}')\n",
    "driver.get(f'{url}/{i}')\n"
   ]
  },
  {
   "cell_type": "code",
   "execution_count": null,
   "metadata": {},
   "outputs": [],
   "source": []
  }
 ],
 "metadata": {
  "kernelspec": {
   "display_name": "mlops",
   "language": "python",
   "name": "python3"
  },
  "language_info": {
   "codemirror_mode": {
    "name": "ipython",
    "version": 3
   },
   "file_extension": ".py",
   "mimetype": "text/x-python",
   "name": "python",
   "nbconvert_exporter": "python",
   "pygments_lexer": "ipython3",
   "version": "3.11.4"
  }
 },
 "nbformat": 4,
 "nbformat_minor": 2
}
